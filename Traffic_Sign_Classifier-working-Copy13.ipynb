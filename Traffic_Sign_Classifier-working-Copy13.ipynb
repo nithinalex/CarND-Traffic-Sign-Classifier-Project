{
 "cells": [
  {
   "cell_type": "markdown",
   "metadata": {},
   "source": [
    "# Self-Driving Car Engineer Nanodegree\n",
    "\n",
    "## Deep Learning\n",
    "\n",
    "## Project: Build a Traffic Sign Recognition Classifier\n",
    "\n",
    "In this notebook, a template is provided for you to implement your functionality in stages, which is required to successfully complete this project. If additional code is required that cannot be included in the notebook, be sure that the Python code is successfully imported and included in your submission if necessary. \n",
    "\n",
    "> **Note**: Once you have completed all of the code implementations, you need to finalize your work by exporting the iPython Notebook as an HTML document. Before exporting the notebook to html, all of the code cells need to have been run so that reviewers can see the final implementation and output. You can then export the notebook by using the menu above and navigating to  \\n\",\n",
    "    \"**File -> Download as -> HTML (.html)**. Include the finished document along with this notebook as your submission. \n",
    "\n",
    "In addition to implementing code, there is a writeup to complete. The writeup should be completed in a separate file, which can be either a markdown file or a pdf document. There is a [write up template](https://github.com/udacity/CarND-Traffic-Sign-Classifier-Project/blob/master/writeup_template.md) that can be used to guide the writing process. Completing the code template and writeup template will cover all of the [rubric points](https://review.udacity.com/#!/rubrics/481/view) for this project.\n",
    "\n",
    "The [rubric](https://review.udacity.com/#!/rubrics/481/view) contains \"Stand Out Suggestions\" for enhancing the project beyond the minimum requirements. The stand out suggestions are optional. If you decide to pursue the \"stand out suggestions\", you can include the code in this Ipython notebook and also discuss the results in the writeup file.\n",
    "\n",
    "\n",
    ">**Note:** Code and Markdown cells can be executed using the **Shift + Enter** keyboard shortcut. In addition, Markdown cells can be edited by typically double-clicking the cell to enter edit mode."
   ]
  },
  {
   "cell_type": "markdown",
   "metadata": {},
   "source": [
    "---\n",
    "## Step 0: Load The Data"
   ]
  },
  {
   "cell_type": "code",
   "execution_count": 1,
   "metadata": {},
   "outputs": [
    {
     "name": "stdout",
     "output_type": "stream",
     "text": [
      "\n",
      "Image Shape: (32, 32, 3)\n",
      "\n",
      "Training Set:   34799 samples\n",
      "Validation Set: 4410 samples\n",
      "Test Set:       12630 samples\n",
      "\n",
      "Number of classes:  43\n"
     ]
    }
   ],
   "source": [
    "# Load pickled data\n",
    "import pickle\n",
    "\n",
    "# TODO: Fill this in based on where you saved the training and testing data\n",
    "\n",
    "#training_file = ?\n",
    "training_file = './traffic-signs-data/train.p'\n",
    "#validation_file=?\n",
    "validation_file = './traffic-signs-data/valid.p'\n",
    "#testing_file = ?\n",
    "testing_file = './traffic-signs-data/test.p'\n",
    "\n",
    "with open(training_file, mode='rb') as f:\n",
    "    train = pickle.load(f)\n",
    "with open(validation_file, mode='rb') as f:\n",
    "    valid = pickle.load(f)\n",
    "with open(testing_file, mode='rb') as f:\n",
    "    test = pickle.load(f)\n",
    "    \n",
    "X_train, y_train = train['features'], train['labels']\n",
    "X_valid, y_valid = valid['features'], valid['labels']\n",
    "X_test, y_test = test['features'], test['labels']\n",
    "\n",
    "assert(len(X_train) == len(y_train))\n",
    "assert(len(X_valid) == len(y_valid))\n",
    "assert(len(X_test) == len(y_test))\n",
    "\n",
    "print()\n",
    "print(\"Image Shape: {}\".format(X_train[0].shape))\n",
    "print()\n",
    "print(\"Training Set:   {} samples\".format(len(X_train)))\n",
    "print(\"Validation Set: {} samples\".format(len(X_valid)))\n",
    "print(\"Test Set:       {} samples\".format(len(X_test)))\n",
    "print()\n",
    "\n",
    "n_classes = 43\n",
    "\n",
    "print(\"Number of classes: \", n_classes)"
   ]
  },
  {
   "cell_type": "markdown",
   "metadata": {},
   "source": [
    "## Visualize Data\n",
    "\n",
    "View a sample from the dataset.\n",
    "You do not need to modify this section."
   ]
  },
  {
   "cell_type": "code",
   "execution_count": 2,
   "metadata": {},
   "outputs": [
    {
     "name": "stdout",
     "output_type": "stream",
     "text": [
      "1\n"
     ]
    },
    {
     "data": {
      "image/png": "[encoded data removed]",
      "text/plain": [
       "<matplotlib.figure.Figure at 0x7fc3a5f73198>"
      ]
     },
     "metadata": {},
     "output_type": "display_data"
    }
   ],
   "source": [
    "import random\n",
    "import numpy as np\n",
    "import matplotlib.pyplot as plt\n",
    "%matplotlib inline\n",
    "\n",
    "index = random.randint(0, len(X_train))\n",
    "image = X_train[index].squeeze()\n",
    "\n",
    "plt.figure(figsize=(3,3))\n",
    "plt.imshow(image)\n",
    "print(y_train[index])"
   ]
  },
  {
   "cell_type": "markdown",
   "metadata": {},
   "source": [
    "### Include an exploratory visualization of the dataset"
   ]
  },
  {
   "cell_type": "code",
   "execution_count": 3,
   "metadata": {},
   "outputs": [
    {
     "data": {
      "text/plain": [
       "<Container object of 43 artists>"
      ]
     },
     "execution_count": 3,
     "metadata": {},
     "output_type": "execute_result"
    },
    {
     "data": {
      "image/png": "[encoded data removed]",
      "text/plain": [
       "<matplotlib.figure.Figure at 0x7fc37be556d8>"
      ]
     },
     "metadata": {},
     "output_type": "display_data"
    }
   ],
   "source": [
    "### Data exploration visualization code goes here.\n",
    "### Feel free to use as many code cells as needed.\n",
    "import matplotlib.pyplot as plt\n",
    "# Visualizations will be shown in the notebook.\n",
    "%matplotlib inline\n",
    "# Plotting number of samples v/s sign id\n",
    "counts = []\n",
    "for i in range(43):\n",
    "    counts.append(np.sum(y_train == i))\n",
    "\n",
    "plt.bar(range(43),counts)"
   ]
  },
  {
   "cell_type": "markdown",
   "metadata": {},
   "source": [
    "# Lets generate additional data"
   ]
  },
  {
   "cell_type": "code",
   "execution_count": 4,
   "metadata": {},
   "outputs": [
    {
     "name": "stdout",
     "output_type": "stream",
     "text": [
      "(128936, 32, 32, 3) (128936,)\n"
     ]
    },
    {
     "data": {
      "text/plain": [
       "(0, 5000)"
      ]
     },
     "execution_count": 4,
     "metadata": {},
     "output_type": "execute_result"
    },
    {
     "data": {
      "image/png": "[encoded data removed]",
      "text/plain": [
       "<matplotlib.figure.Figure at 0x7fc3785caf60>"
      ]
     },
     "metadata": {},
     "output_type": "display_data"
    }
   ],
   "source": [
    "\n",
    "from scipy.ndimage import rotate\n",
    "from sklearn.utils import shuffle\n",
    "\n",
    "def generate_additional_data_rotate(x, y):\n",
    "    for i in range(43):\n",
    "        indexes = y == i\n",
    "        count = np.sum(indexes)\n",
    "        x_train_sample = x[indexes]\n",
    "        y_train_sample = y[indexes]\n",
    "        if count < 500:\n",
    "            # three random angles between -10 to 10 degress\n",
    "            three_random_angles = 20.0*np.random.random_sample(3) - 10.0\n",
    "            x1 = rotate(x_train_sample, three_random_angles[0], axes=(1,2), reshape=False)\n",
    "            x2 = rotate(x_train_sample, three_random_angles[1], axes=(1,2), reshape=False)\n",
    "            x3 = rotate(x_train_sample, three_random_angles[2], axes=(1,2), reshape=False)\n",
    "            X_additional = np.concatenate((x1, x2, x3))\n",
    "            x = np.concatenate((x, X_additional))\n",
    "            y = np.concatenate((y, y_train_sample, y_train_sample, y_train_sample))\n",
    "        elif count < 1000:\n",
    "            # one random angles between -10 to 10 degress\n",
    "            one_random_angle = 20.0*np.random.random_sample(1) - 10.0\n",
    "            x1 = rotate(x_train_sample, one_random_angle[0], axes=(1,2), reshape=False)\n",
    "            x = np.concatenate((x, x1))\n",
    "            y = np.concatenate((y, y_train_sample))\n",
    "            \n",
    "    return x, y\n",
    "\n",
    "X_train, y_train = generate_additional_data_rotate(X_train, y_train)\n",
    "X_train, y_train = generate_additional_data_rotate(X_train, y_train)\n",
    "\n",
    "# Shuffle the data\n",
    "X_train, y_train = shuffle(X_train, y_train)\n",
    "\n",
    "def generate_additional_data_translate(x, y):\n",
    "    num_total = y.shape[0]\n",
    "    first_break = int(num_total/3)\n",
    "    second_break = 2*first_break\n",
    "    x_sample_1 = x[0:first_break]\n",
    "    x_sample_2 = x[first_break:second_break]\n",
    "    x_sample_3 = x[second_break:]\n",
    "    y1 = y[0:first_break]\n",
    "    y2 = y[first_break:second_break]\n",
    "    y3 = y[second_break:]\n",
    "    \n",
    "    random_integer = 0\n",
    "    while(random_integer == 0):\n",
    "        random_integer = np.random.randint(-4,4)\n",
    "    x1 = np.roll(x_sample_1, random_integer, axis=2)\n",
    "    \n",
    "    random_integer = 0\n",
    "    while(random_integer == 0):\n",
    "        random_integer = np.random.randint(-4,4)\n",
    "    x2 = np.roll(x_sample_2, random_integer, axis=2)\n",
    "        \n",
    "    random_integer = 0\n",
    "    while(random_integer == 0):\n",
    "        random_integer = np.random.randint(-4,4)\n",
    "    x3 = np.roll(x_sample_3, random_integer, axis=2)\n",
    "    \n",
    "    x = np.concatenate((x, x1, x2, x3))\n",
    "    y = np.concatenate((y, y1, y2, y3))\n",
    "    return x, y\n",
    "\n",
    "X_train, y_train = generate_additional_data_translate(X_train, y_train)\n",
    "print(X_train.shape, y_train.shape)\n",
    "\n",
    "# Shuffle the data\n",
    "X_train, y_train = shuffle(X_train, y_train)\n",
    "\n",
    "# Plotting number of samples v/s sign id\n",
    "counts = []\n",
    "for i in range(43):\n",
    "    counts.append(np.sum(y_train == i))\n",
    "\n",
    "count_plot = plt.bar(range(43),counts)\n",
    "axes = plt.gca()\n",
    "axes.set_ylim([0,5000])"
   ]
  },
  {
   "cell_type": "markdown",
   "metadata": {},
   "source": [
    "### Pre-process the Data Set (normalization, grayscale, etc.)"
   ]
  },
  {
   "cell_type": "code",
   "execution_count": 5,
   "metadata": {},
   "outputs": [
    {
     "name": "stdout",
     "output_type": "stream",
     "text": [
      "Size of normalized training set (128936, 32, 32, 1) of type  float32\n",
      "Size of normalized test set (12630, 32, 32, 1) of type  float32\n"
     ]
    }
   ],
   "source": [
    "# Preprocess the data here.\n",
    "# Feel free to use as many code cells as needed.\n",
    "\n",
    "# Change to float32, so it can be multiplied against the weights in TensorFlow, which are float32\n",
    "X_train = X_train.astype(np.float32)\n",
    "X_test = X_test.astype(np.float32)\n",
    "\n",
    "def rgb2gray(rgb):\n",
    "    return np.dot(rgb[...,:3], [0.299, 0.587, 0.114])\n",
    "\n",
    "def normalize(image_data):\n",
    "    \"\"\"\n",
    "    Normalize the image data with Min-Max scaling to a range of [-0.5, 0.5]\n",
    "    :param image_data: The image data to be normalized\n",
    "    :return: Normalized image data\n",
    "    \"\"\"\n",
    "    # TODO: Implement Min-Max scaling for grayscale image data\n",
    "    image_data = rgb2gray(image_data)\n",
    "    normalized = (image_data)/255.0 - 0.5\n",
    "    normalized = normalized.reshape((-1,32,32,1))\n",
    "    return normalized.astype(np.float32)\n",
    "\n",
    "X_train = normalize(X_train)\n",
    "X_test = normalize(X_test)\n",
    "X_valid= normalize(X_valid)\n",
    "\n",
    "print(\"Size of normalized training set\",X_train.shape,\"of type \", X_train.dtype)\n",
    "#print(X_train[0].shape,X_train.dtype)\n",
    "print(\"Size of normalized test set\",X_test.shape,\"of type \", X_test.dtype)"
   ]
  },
  {
   "cell_type": "code",
   "execution_count": 6,
   "metadata": {},
   "outputs": [
    {
     "name": "stdout",
     "output_type": "stream",
     "text": [
      "36\n"
     ]
    },
    {
     "data": {
      "image/png": "[encoded data removed]",
      "text/plain": [
       "<matplotlib.figure.Figure at 0x7fc3786bddd8>"
      ]
     },
     "metadata": {},
     "output_type": "display_data"
    }
   ],
   "source": [
    "import random\n",
    "import numpy as np\n",
    "import matplotlib.pyplot as plt\n",
    "%matplotlib inline\n",
    "\n",
    "index = random.randint(0, len(X_train))\n",
    "image = X_train[index].squeeze()\n",
    "\n",
    "plt.figure(figsize=(3,3))\n",
    "plt.imshow(image)\n",
    "print(y_train[index])"
   ]
  },
  {
   "cell_type": "code",
   "execution_count": null,
   "metadata": {
    "collapsed": true
   },
   "outputs": [],
   "source": []
  },
  {
   "cell_type": "markdown",
   "metadata": {},
   "source": [
    "## Preprocess Data"
   ]
  },
  {
   "cell_type": "markdown",
   "metadata": {},
   "source": [
    "Shuffle the training data.\n",
    "You do not need to modify this section."
   ]
  },
  {
   "cell_type": "code",
   "execution_count": 7,
   "metadata": {
    "collapsed": true
   },
   "outputs": [],
   "source": [
    "from sklearn.utils import shuffle\n",
    "\n",
    "X_train, y_train = shuffle(X_train, y_train)"
   ]
  },
  {
   "cell_type": "markdown",
   "metadata": {},
   "source": [
    "## Setup TensorFlow\n",
    "The EPOCH and BATCH_SIZE values affect the training speed and model accuracy.\n",
    "You do not need to modify this section."
   ]
  },
  {
   "cell_type": "code",
   "execution_count": 8,
   "metadata": {
    "collapsed": true
   },
   "outputs": [],
   "source": [
    "import tensorflow as tf\n",
    "\n",
    "EPOCHS = 50\n",
    "#EPOCHS = 100\n",
    "\n",
    "BATCH_SIZE = 128\n",
    "#BATCH_SIZE= 256"
   ]
  },
  {
   "cell_type": "markdown",
   "metadata": {},
   "source": [
    "----\n",
    "\n",
    "## Step 2: Design and Test a Model Architecture\n",
    "\n",
    "Design and implement a deep learning model that learns to recognize traffic signs. Train and test your model on the [German Traffic Sign Dataset](http://benchmark.ini.rub.de/?section=gtsrb&subsection=dataset).\n",
    "\n",
    "The LeNet-5 implementation shown in the [classroom](https://classroom.udacity.com/nanodegrees/nd013/parts/fbf77062-5703-404e-b60c-95b78b2f3f9e/modules/6df7ae49-c61c-4bb2-a23e-6527e69209ec/lessons/601ae704-1035-4287-8b11-e2c2716217ad/concepts/d4aca031-508f-4e0b-b493-e7b706120f81) at the end of the CNN lesson is a solid starting point. You'll have to change the number of classes and possibly the preprocessing, but aside from that it's plug and play! \n",
    "\n",
    "With the LeNet-5 solution from the lecture, you should expect a validation set accuracy of about 0.89. To meet specifications, the validation set accuracy will need to be at least 0.93. It is possible to get an even higher accuracy, but 0.93 is the minimum for a successful project submission. \n",
    "\n",
    "There are various aspects to consider when thinking about this problem:\n",
    "\n",
    "- Neural network architecture (is the network over or underfitting?)\n",
    "- Play around preprocessing techniques (normalization, rgb to grayscale, etc)\n",
    "- Number of examples per label (some have more than others).\n",
    "- Generate fake data.\n",
    "\n",
    "Here is an example of a [published baseline model on this problem](http://yann.lecun.com/exdb/publis/pdf/sermanet-ijcnn-11.pdf). It's not required to be familiar with the approach used in the paper but, it's good practice to try to read papers like these."
   ]
  },
  {
   "cell_type": "markdown",
   "metadata": {},
   "source": [
    "Use the code cell (or multiple code cells, if necessary) to implement the first step of your project."
   ]
  },
  {
   "cell_type": "markdown",
   "metadata": {},
   "source": [
    "### Model Architecture"
   ]
  },
  {
   "cell_type": "code",
   "execution_count": 9,
   "metadata": {
    "collapsed": true
   },
   "outputs": [],
   "source": [
    "### Define your architecture here.\n",
    "### Feel free to use as many code cells as needed."
   ]
  },
  {
   "cell_type": "markdown",
   "metadata": {},
   "source": [
    "## TODO: Implement LeNet-5\n",
    "Implement the LeNet-5 neural network architecture.\n",
    "This is the only cell you need to edit.\n",
    "\n",
    "### Input\n",
    "The LeNet architecture accepts a 32x32xC image as input, where C is the number of color channels. Since MNIST images are grayscale, C is 1 in this case.\n",
    "\n",
    "### Architecture\n",
    "**Layer 1: Convolutional. ** The output shape should be 28x28x6.\n",
    "\n",
    "**Activation. ** Your choice of activation function.\n",
    "\n",
    "**Pooling.** The output shape should be 14x14x6.\n",
    "\n",
    "**Layer 2: Convolutional.** The output shape should be 10x10x16.\n",
    "\n",
    "**Activation. ** Your choice of activation function.\n",
    "\n",
    "**Pooling.** The output shape should be 5x5x16.\n",
    "\n",
    "**Flatten. ** Flatten the output shape of the final pooling layer such that it's 1D instead of 3D. The easiest way to do is by using tf.contrib.layers.flatten, which is already imported for you.\n",
    "\n",
    "**Layer 3: Fully Connected.** This should have 120 outputs.\n",
    "\n",
    "**Activation. ** Your choice of activation function.\n",
    "\n",
    "**Layer 4: Fully Connected.** This should have 84 outputs.\n",
    "**Activation. ** Your choice of activation function.\n",
    "\n",
    "**Layer 5: Fully Connected (Logits).** This should have 10 outputs.\n",
    "#### Output\n",
    "Return the result of the 2nd fully connected layer."
   ]
  },
  {
   "cell_type": "code",
   "execution_count": 13,
   "metadata": {
    "collapsed": true
   },
   "outputs": [],
   "source": [
    "from tensorflow.contrib.layers import flatten\n",
    "\n",
    "def LeNet(x):    \n",
    "    # Arguments used for tf.truncated_normal, randomly defines variables for the weights and biases for each layer\n",
    "    mu = 0\n",
    "    sigma = 0.1\n",
    "    \n",
    "    # TODO: Layer 1: Convolutional. Input = 32x32x1. Output = 28x28x6.\n",
    "    conv1_W = tf.Variable(tf.truncated_normal(shape=(5, 5, 1, 6), mean = mu, stddev = sigma))\n",
    "    conv1_b = tf.Variable(tf.zeros(6))\n",
    "    conv1   = tf.nn.conv2d(x, conv1_W, strides=[1, 1, 1, 1], padding='VALID') + conv1_b\n",
    "\n",
    "    # TODO: Activation.\n",
    "    conv1 = tf.nn.relu(conv1)\n",
    "\n",
    "    # TODO: Pooling. Input = 28x28x6. Output = 14x14x6.\n",
    "    conv1 = tf.nn.max_pool(conv1, ksize=[1, 2, 2, 1], strides=[1, 2, 2, 1], padding='VALID')\n",
    "\n",
    "    # TODO: Layer 2: Convolutional. Output = 10x10x16.\n",
    "    conv2_W = tf.Variable(tf.truncated_normal(shape=(5, 5, 6, 16), mean = mu, stddev = sigma))\n",
    "    conv2_b = tf.Variable(tf.zeros(16))\n",
    "    conv2   = tf.nn.conv2d(conv1, conv2_W, strides=[1, 1, 1, 1], padding='VALID') + conv2_b\n",
    "    \n",
    "    # TODO: Activation.\n",
    "    conv2 = tf.nn.relu(conv2)\n",
    "\n",
    "    # TODO: Pooling. Input = 10x10x16. Output = 5x5x16.\n",
    "    conv2 = tf.nn.max_pool(conv2, ksize=[1, 2, 2, 1], strides=[1, 2, 2, 1], padding='VALID')\n",
    "\n",
    "    # TODO: Flatten. Input = 5x5x16. Output = 400.\n",
    "    fc0   = flatten(conv2)\n",
    "    #Adding a drop out\n",
    "    fc0=tf.nn.dropout(fc0,0.7)\n",
    "    \n",
    "    # TODO: Layer 3: Fully Connected. Input = 400. Output = 120.\n",
    "    fc1_W = tf.Variable(tf.truncated_normal(shape=(400, 120), mean = mu, stddev = sigma))\n",
    "    fc1_b = tf.Variable(tf.zeros(120))\n",
    "    fc1   = tf.matmul(fc0, fc1_W) + fc1_b\n",
    "    \n",
    "    # TODO: Activation.\n",
    "    fc1    = tf.nn.relu(fc1)\n",
    "    fc1 = tf.nn.dropout(fc1,0.7)\n",
    "\n",
    "    # TODO: Layer 4: Fully Connected. Input = 120. Output = 84.\n",
    "    fc2_W  = tf.Variable(tf.truncated_normal(shape=(120, 84), mean = mu, stddev = sigma))\n",
    "    fc2_b  = tf.Variable(tf.zeros(84))\n",
    "    fc2    = tf.matmul(fc1, fc2_W) + fc2_b\n",
    "    \n",
    "    # TODO: Activation.\n",
    "    fc2    = tf.nn.relu(fc2)\n",
    "\n",
    "    # TODO: Layer 5: Fully Connected. Input = 84. Output = 43.\n",
    "    fc3_W  = tf.Variable(tf.truncated_normal(shape=(84, 43), mean = mu, stddev = sigma))\n",
    "    fc3_b  = tf.Variable(tf.zeros(43))\n",
    "    logits = tf.matmul(fc2, fc3_W) + fc3_b\n",
    "    \n",
    "    return logits"
   ]
  },
  {
   "cell_type": "markdown",
   "metadata": {
    "collapsed": true
   },
   "source": [
    "\n",
    "## Features and Labels\n",
    "Train LeNet to classify **German Traffic Sign DataSet**.\n",
    "\n",
    "x is a placeholder for a batch of input images. y is a placeholder for a batch of output labels.\n",
    "You do not need to modify this section."
   ]
  },
  {
   "cell_type": "code",
   "execution_count": 14,
   "metadata": {
    "collapsed": true
   },
   "outputs": [],
   "source": [
    "x = tf.placeholder(tf.float32, (None, 32, 32, 1))\n",
    "y = tf.placeholder(tf.int32, (None))\n",
    "one_hot_y = tf.one_hot(y, 43)"
   ]
  },
  {
   "cell_type": "markdown",
   "metadata": {},
   "source": [
    "## Training Pipeline\n",
    "Create a training pipeline that uses the model to classify **German Traffic Sign DataSet**.\n",
    "You do not need to modify this section.\n"
   ]
  },
  {
   "cell_type": "code",
   "execution_count": 15,
   "metadata": {},
   "outputs": [],
   "source": [
    "rate = 0.001\n",
    "#rate = 0.01\n",
    "\n",
    "logits = LeNet(x)\n",
    "cross_entropy = tf.nn.softmax_cross_entropy_with_logits(logits, one_hot_y)\n",
    "loss_operation = tf.reduce_mean(cross_entropy)\n",
    "optimizer = tf.train.AdamOptimizer(learning_rate = rate)\n",
    "training_operation = optimizer.minimize(loss_operation)"
   ]
  },
  {
   "cell_type": "code",
   "execution_count": 16,
   "metadata": {
    "collapsed": true
   },
   "outputs": [],
   "source": [
    "def evaluate_loss(X_data, y_data):\n",
    "    num_examples = len(X_data)\n",
    "    total_loss = 0\n",
    "    sess = tf.get_default_session()\n",
    "    for offset in range(0, num_examples, BATCH_SIZE):\n",
    "        batch_x, batch_y = X_data[offset:offset+BATCH_SIZE], y_data[offset:offset+BATCH_SIZE]\n",
    "        loss = sess.run(loss_operation, feed_dict={x: batch_x, y: batch_y})\n",
    "        total_loss += (loss * len(batch_x))\n",
    "    return total_loss / num_examples"
   ]
  },
  {
   "cell_type": "markdown",
   "metadata": {},
   "source": [
    "## Model Evaluation\n",
    "Evaluate how well the loss and accuracy of the model for a given dataset.\n",
    "You do not need to modify this section."
   ]
  },
  {
   "cell_type": "code",
   "execution_count": 17,
   "metadata": {},
   "outputs": [
    {
     "name": "stdout",
     "output_type": "stream",
     "text": [
      "Correct prediction is:  Tensor(\"Equal:0\", dtype=bool)\n",
      "Accuracy operation is:  Tensor(\"Mean_1:0\", dtype=float32)\n"
     ]
    }
   ],
   "source": [
    "correct_prediction = tf.equal(tf.argmax(logits, 1), tf.argmax(one_hot_y, 1))\n",
    "print(\"Correct prediction is: \",correct_prediction)\n",
    "accuracy_operation = tf.reduce_mean(tf.cast(correct_prediction, tf.float32))\n",
    "print(\"Accuracy operation is: \",accuracy_operation)\n",
    "saver = tf.train.Saver()\n",
    "\n",
    "def evaluate_acc(X_data, y_data):\n",
    "    num_examples = len(X_data)\n",
    "    total_accuracy = 0\n",
    "    sess = tf.get_default_session()\n",
    "    for offset in range(0, num_examples, BATCH_SIZE):\n",
    "        batch_x, batch_y = X_data[offset:offset+BATCH_SIZE], y_data[offset:offset+BATCH_SIZE]\n",
    "        accuracy = sess.run(accuracy_operation, feed_dict={x: batch_x, y: batch_y})\n",
    "        total_accuracy += (accuracy * len(batch_x))\n",
    "    return total_accuracy / num_examples\n",
    "\n",
    "\n"
   ]
  },
  {
   "cell_type": "markdown",
   "metadata": {},
   "source": [
    "## Train the Model\n",
    "Run the training data through the training pipeline to train the model.\n",
    "Before each epoch, shuffle the training set.\n",
    "After each epoch, measure the loss and accuracy of the validation set.\n",
    "Save the model after training.\n",
    "You do not need to modify this section."
   ]
  },
  {
   "cell_type": "code",
   "execution_count": 18,
   "metadata": {},
   "outputs": [
    {
     "name": "stdout",
     "output_type": "stream",
     "text": [
      "Training...\n",
      "\n",
      "EPOCH 1 ...\n",
      "Training Accuracy = 0.732\n",
      "Validation Accuracy = 0.693\n",
      "Training Loss = 0.887\n",
      "Validation Loss = 1.030\n",
      "\n",
      "EPOCH 2 ...\n",
      "Training Accuracy = 0.826\n",
      "Validation Accuracy = 0.772\n",
      "Training Loss = 0.558\n",
      "Validation Loss = 0.748\n",
      "\n",
      "EPOCH 3 ...\n",
      "Training Accuracy = 0.869\n",
      "Validation Accuracy = 0.815\n",
      "Training Loss = 0.425\n",
      "Validation Loss = 0.639\n",
      "\n",
      "EPOCH 4 ...\n",
      "Training Accuracy = 0.891\n",
      "Validation Accuracy = 0.833\n",
      "Training Loss = 0.355\n",
      "Validation Loss = 0.584\n",
      "\n",
      "EPOCH 5 ...\n",
      "Training Accuracy = 0.907\n",
      "Validation Accuracy = 0.846\n",
      "Training Loss = 0.305\n",
      "Validation Loss = 0.556\n",
      "\n",
      "EPOCH 6 ...\n",
      "Training Accuracy = 0.918\n",
      "Validation Accuracy = 0.862\n",
      "Training Loss = 0.264\n",
      "Validation Loss = 0.515\n",
      "\n",
      "EPOCH 7 ...\n",
      "Training Accuracy = 0.926\n",
      "Validation Accuracy = 0.869\n",
      "Training Loss = 0.238\n",
      "Validation Loss = 0.475\n",
      "\n",
      "EPOCH 8 ...\n",
      "Training Accuracy = 0.932\n",
      "Validation Accuracy = 0.877\n",
      "Training Loss = 0.219\n",
      "Validation Loss = 0.444\n",
      "\n",
      "EPOCH 9 ...\n",
      "Training Accuracy = 0.938\n",
      "Validation Accuracy = 0.881\n",
      "Training Loss = 0.202\n",
      "Validation Loss = 0.456\n",
      "\n",
      "EPOCH 10 ...\n",
      "Training Accuracy = 0.939\n",
      "Validation Accuracy = 0.880\n",
      "Training Loss = 0.197\n",
      "Validation Loss = 0.449\n",
      "\n",
      "EPOCH 11 ...\n",
      "Training Accuracy = 0.943\n",
      "Validation Accuracy = 0.892\n",
      "Training Loss = 0.178\n",
      "Validation Loss = 0.403\n",
      "\n",
      "EPOCH 12 ...\n",
      "Training Accuracy = 0.945\n",
      "Validation Accuracy = 0.898\n",
      "Training Loss = 0.173\n",
      "Validation Loss = 0.408\n",
      "\n",
      "EPOCH 13 ...\n",
      "Training Accuracy = 0.949\n",
      "Validation Accuracy = 0.891\n",
      "Training Loss = 0.164\n",
      "Validation Loss = 0.419\n",
      "\n",
      "EPOCH 14 ...\n",
      "Training Accuracy = 0.950\n",
      "Validation Accuracy = 0.893\n",
      "Training Loss = 0.157\n",
      "Validation Loss = 0.413\n",
      "\n",
      "EPOCH 15 ...\n",
      "Training Accuracy = 0.953\n",
      "Validation Accuracy = 0.910\n",
      "Training Loss = 0.147\n",
      "Validation Loss = 0.402\n",
      "\n",
      "EPOCH 16 ...\n",
      "Training Accuracy = 0.953\n",
      "Validation Accuracy = 0.906\n",
      "Training Loss = 0.150\n",
      "Validation Loss = 0.363\n",
      "\n",
      "EPOCH 17 ...\n",
      "Training Accuracy = 0.955\n",
      "Validation Accuracy = 0.894\n",
      "Training Loss = 0.142\n",
      "Validation Loss = 0.413\n",
      "\n",
      "EPOCH 18 ...\n",
      "Training Accuracy = 0.956\n",
      "Validation Accuracy = 0.897\n",
      "Training Loss = 0.141\n",
      "Validation Loss = 0.388\n",
      "\n",
      "EPOCH 19 ...\n",
      "Training Accuracy = 0.958\n",
      "Validation Accuracy = 0.901\n",
      "Training Loss = 0.133\n",
      "Validation Loss = 0.383\n",
      "\n",
      "EPOCH 20 ...\n",
      "Training Accuracy = 0.961\n",
      "Validation Accuracy = 0.910\n",
      "Training Loss = 0.122\n",
      "Validation Loss = 0.374\n",
      "\n",
      "EPOCH 21 ...\n",
      "Training Accuracy = 0.958\n",
      "Validation Accuracy = 0.895\n",
      "Training Loss = 0.130\n",
      "Validation Loss = 0.388\n",
      "\n",
      "EPOCH 22 ...\n",
      "Training Accuracy = 0.957\n",
      "Validation Accuracy = 0.899\n",
      "Training Loss = 0.140\n",
      "Validation Loss = 0.394\n",
      "\n",
      "EPOCH 23 ...\n",
      "Training Accuracy = 0.960\n",
      "Validation Accuracy = 0.902\n",
      "Training Loss = 0.129\n",
      "Validation Loss = 0.376\n",
      "\n",
      "EPOCH 24 ...\n",
      "Training Accuracy = 0.961\n",
      "Validation Accuracy = 0.902\n",
      "Training Loss = 0.121\n",
      "Validation Loss = 0.412\n",
      "\n",
      "EPOCH 25 ...\n",
      "Training Accuracy = 0.959\n",
      "Validation Accuracy = 0.906\n",
      "Training Loss = 0.132\n",
      "Validation Loss = 0.393\n",
      "\n",
      "EPOCH 26 ...\n",
      "Training Accuracy = 0.964\n",
      "Validation Accuracy = 0.911\n",
      "Training Loss = 0.115\n",
      "Validation Loss = 0.373\n",
      "\n",
      "EPOCH 27 ...\n",
      "Training Accuracy = 0.964\n",
      "Validation Accuracy = 0.905\n",
      "Training Loss = 0.115\n",
      "Validation Loss = 0.350\n",
      "\n",
      "EPOCH 28 ...\n",
      "Training Accuracy = 0.966\n",
      "Validation Accuracy = 0.915\n",
      "Training Loss = 0.111\n",
      "Validation Loss = 0.347\n",
      "\n",
      "EPOCH 29 ...\n",
      "Training Accuracy = 0.967\n",
      "Validation Accuracy = 0.914\n",
      "Training Loss = 0.104\n",
      "Validation Loss = 0.344\n",
      "\n",
      "EPOCH 30 ...\n",
      "Training Accuracy = 0.963\n",
      "Validation Accuracy = 0.907\n",
      "Training Loss = 0.116\n",
      "Validation Loss = 0.385\n",
      "\n",
      "EPOCH 31 ...\n",
      "Training Accuracy = 0.965\n",
      "Validation Accuracy = 0.909\n",
      "Training Loss = 0.107\n",
      "Validation Loss = 0.364\n",
      "\n",
      "EPOCH 32 ...\n",
      "Training Accuracy = 0.965\n",
      "Validation Accuracy = 0.922\n",
      "Training Loss = 0.112\n",
      "Validation Loss = 0.360\n",
      "\n",
      "EPOCH 33 ...\n",
      "Training Accuracy = 0.966\n",
      "Validation Accuracy = 0.912\n",
      "Training Loss = 0.109\n",
      "Validation Loss = 0.396\n",
      "\n",
      "EPOCH 34 ...\n",
      "Training Accuracy = 0.969\n",
      "Validation Accuracy = 0.912\n",
      "Training Loss = 0.098\n",
      "Validation Loss = 0.329\n",
      "\n",
      "EPOCH 35 ...\n",
      "Training Accuracy = 0.968\n",
      "Validation Accuracy = 0.916\n",
      "Training Loss = 0.103\n",
      "Validation Loss = 0.330\n",
      "\n",
      "EPOCH 36 ...\n",
      "Training Accuracy = 0.968\n",
      "Validation Accuracy = 0.921\n",
      "Training Loss = 0.103\n",
      "Validation Loss = 0.328\n",
      "\n",
      "EPOCH 37 ...\n",
      "Training Accuracy = 0.968\n",
      "Validation Accuracy = 0.917\n",
      "Training Loss = 0.099\n",
      "Validation Loss = 0.343\n",
      "\n",
      "EPOCH 38 ...\n",
      "Training Accuracy = 0.969\n",
      "Validation Accuracy = 0.920\n",
      "Training Loss = 0.099\n",
      "Validation Loss = 0.348\n",
      "\n",
      "EPOCH 39 ...\n",
      "Training Accuracy = 0.970\n",
      "Validation Accuracy = 0.919\n",
      "Training Loss = 0.094\n",
      "Validation Loss = 0.329\n",
      "\n",
      "EPOCH 40 ...\n",
      "Training Accuracy = 0.969\n",
      "Validation Accuracy = 0.919\n",
      "Training Loss = 0.095\n",
      "Validation Loss = 0.309\n",
      "\n",
      "EPOCH 41 ...\n",
      "Training Accuracy = 0.970\n",
      "Validation Accuracy = 0.916\n",
      "Training Loss = 0.098\n",
      "Validation Loss = 0.383\n",
      "\n",
      "EPOCH 42 ...\n",
      "Training Accuracy = 0.970\n",
      "Validation Accuracy = 0.912\n",
      "Training Loss = 0.095\n",
      "Validation Loss = 0.367\n",
      "\n",
      "EPOCH 43 ...\n",
      "Training Accuracy = 0.971\n",
      "Validation Accuracy = 0.925\n",
      "Training Loss = 0.091\n",
      "Validation Loss = 0.339\n",
      "\n",
      "EPOCH 44 ...\n",
      "Training Accuracy = 0.969\n",
      "Validation Accuracy = 0.917\n",
      "Training Loss = 0.099\n",
      "Validation Loss = 0.419\n",
      "\n",
      "EPOCH 45 ...\n",
      "Training Accuracy = 0.971\n",
      "Validation Accuracy = 0.922\n",
      "Training Loss = 0.092\n",
      "Validation Loss = 0.345\n",
      "\n",
      "EPOCH 46 ...\n",
      "Training Accuracy = 0.972\n",
      "Validation Accuracy = 0.920\n",
      "Training Loss = 0.088\n",
      "Validation Loss = 0.329\n",
      "\n",
      "EPOCH 47 ...\n",
      "Training Accuracy = 0.970\n",
      "Validation Accuracy = 0.918\n",
      "Training Loss = 0.095\n",
      "Validation Loss = 0.307\n",
      "\n",
      "EPOCH 48 ...\n",
      "Training Accuracy = 0.972\n",
      "Validation Accuracy = 0.925\n",
      "Training Loss = 0.089\n",
      "Validation Loss = 0.323\n",
      "\n",
      "EPOCH 49 ...\n",
      "Training Accuracy = 0.972\n",
      "Validation Accuracy = 0.922\n",
      "Training Loss = 0.088\n",
      "Validation Loss = 0.373\n",
      "\n",
      "EPOCH 50 ...\n",
      "Training Accuracy = 0.970\n",
      "Validation Accuracy = 0.920\n",
      "Training Loss = 0.095\n",
      "Validation Loss = 0.286\n",
      "\n",
      "Model saved\n"
     ]
    },
    {
     "data": {
      "image/png": "[encoded data removed]",
      "text/plain": [
       "<matplotlib.figure.Figure at 0x7fc378640630>"
      ]
     },
     "metadata": {},
     "output_type": "display_data"
    },
    {
     "data": {
      "image/png": "[encoded data removed]",
      "text/plain": [
       "<matplotlib.figure.Figure at 0x7fc34d868ef0>"
      ]
     },
     "metadata": {},
     "output_type": "display_data"
    }
   ],
   "source": [
    "with tf.Session() as sess:\n",
    "    sess.run(tf.global_variables_initializer())\n",
    "    num_examples = len(X_train)\n",
    "    \n",
    "    count_train_acc=[]\n",
    "    count_valid_acc=[]\n",
    "    count_train_loss=[]\n",
    "    count_valid_loss=[]\n",
    "    \n",
    "    print(\"Training...\")\n",
    "    print()\n",
    "    for i in range(EPOCHS):\n",
    "        X_train, y_train = shuffle(X_train, y_train)\n",
    "        for offset in range(0, num_examples, BATCH_SIZE):\n",
    "            end = offset + BATCH_SIZE\n",
    "            batch_x, batch_y = X_train[offset:end], y_train[offset:end]\n",
    "            sess.run(training_operation, feed_dict={x: batch_x, y: batch_y})\n",
    "            \n",
    "        training_accuracy = evaluate_acc(X_train,y_train)\n",
    "        count_train_acc.append(training_accuracy)\n",
    "        validation_accuracy = evaluate_acc(X_valid, y_valid)\n",
    "        count_valid_acc.append(validation_accuracy)\n",
    "        \n",
    "        \n",
    "        training_loss = evaluate_loss(X_train,y_train)\n",
    "        count_train_loss.append(training_loss)\n",
    "        validation_loss = evaluate_loss(X_valid, y_valid)\n",
    "        count_valid_loss.append(validation_loss)\n",
    "                \n",
    "        \n",
    "        print(\"EPOCH {} ...\".format(i+1))\n",
    "        print(\"Training Accuracy = {:.3f}\".format(training_accuracy))\n",
    "        print(\"Validation Accuracy = {:.3f}\".format(validation_accuracy))\n",
    "        print(\"Training Loss = {:.3f}\".format(training_loss))\n",
    "        print(\"Validation Loss = {:.3f}\".format(validation_loss))\n",
    "        print()\n",
    "        \n",
    "    saver.save(sess, './lenet')\n",
    "    print(\"Model saved\")\n",
    "\n",
    "\n",
    "%matplotlib inline\n",
    "plt.plot(range(EPOCHS),count_train_acc,'b',label ='Training Accuracy')\n",
    "plt.plot(range(EPOCHS),count_valid_acc,'g',label ='Validation Accuracy')\n",
    "plt.xlabel('EPOCHS')\n",
    "plt.ylabel('Accuracy')\n",
    "plt.legend(loc='upper left')\n",
    "plt.show()\n",
    "\n",
    "plt.plot(range(EPOCHS),count_train_loss,'b',label ='Training Loss')\n",
    "plt.plot(range(EPOCHS),count_valid_loss,'r',label ='Validation Loss')\n",
    "plt.xlabel('EPOCHS')\n",
    "plt.ylabel('Loss')\n",
    "plt.legend(loc='upper right')\n",
    "plt.show()\n",
    "\n"
   ]
  },
  {
   "cell_type": "code",
   "execution_count": null,
   "metadata": {
    "collapsed": true
   },
   "outputs": [],
   "source": []
  },
  {
   "cell_type": "code",
   "execution_count": null,
   "metadata": {
    "collapsed": true
   },
   "outputs": [],
   "source": []
  },
  {
   "cell_type": "markdown",
   "metadata": {},
   "source": [
    "## Start from here >>>>>>>>>>>>>>>>>>"
   ]
  },
  {
   "cell_type": "code",
   "execution_count": null,
   "metadata": {
    "collapsed": true
   },
   "outputs": [],
   "source": []
  },
  {
   "cell_type": "markdown",
   "metadata": {},
   "source": [
    "### Train, Validate and Test the Model"
   ]
  },
  {
   "cell_type": "markdown",
   "metadata": {},
   "source": [
    "A validation set can be used to assess how well the model is performing. A low accuracy on the training and validation\n",
    "sets imply underfitting. A high accuracy on the training set but low accuracy on the validation set implies overfitting."
   ]
  },
  {
   "cell_type": "code",
   "execution_count": null,
   "metadata": {
    "collapsed": true
   },
   "outputs": [],
   "source": [
    "### Train your model here.\n",
    "### Calculate and report the accuracy on the training and validation set.\n",
    "### Once a final model architecture is selected, \n",
    "### the accuracy on the test set should be calculated and reported as well.\n",
    "### Feel free to use as many code cells as needed."
   ]
  },
  {
   "cell_type": "markdown",
   "metadata": {},
   "source": [
    "---\n",
    "\n",
    "## Step 3: Test a Model on New Images\n",
    "\n",
    "To give yourself more insight into how your model is working, download at least five pictures of German traffic signs from the web and use your model to predict the traffic sign type.\n",
    "\n",
    "You may find `signnames.csv` useful as it contains mappings from the class id (integer) to the actual sign name."
   ]
  },
  {
   "cell_type": "markdown",
   "metadata": {},
   "source": [
    "### Load and Output the Images"
   ]
  },
  {
   "cell_type": "code",
   "execution_count": null,
   "metadata": {
    "collapsed": true
   },
   "outputs": [],
   "source": [
    "### Load the images and plot them here.\n",
    "### Feel free to use as many code cells as needed."
   ]
  },
  {
   "cell_type": "markdown",
   "metadata": {},
   "source": [
    "### Predict the Sign Type for Each Image"
   ]
  },
  {
   "cell_type": "code",
   "execution_count": null,
   "metadata": {
    "collapsed": true
   },
   "outputs": [],
   "source": [
    "### Run the predictions here and use the model to output the prediction for each image.\n",
    "### Make sure to pre-process the images with the same pre-processing pipeline used earlier.\n",
    "### Feel free to use as many code cells as needed."
   ]
  },
  {
   "cell_type": "markdown",
   "metadata": {},
   "source": [
    "### Analyze Performance"
   ]
  },
  {
   "cell_type": "code",
   "execution_count": null,
   "metadata": {
    "collapsed": true
   },
   "outputs": [],
   "source": [
    "### Calculate the accuracy for these 5 new images. \n",
    "### For example, if the model predicted 1 out of 5 signs correctly, it's 20% accurate on these new images."
   ]
  },
  {
   "cell_type": "markdown",
   "metadata": {},
   "source": [
    "### Output Top 5 Softmax Probabilities For Each Image Found on the Web"
   ]
  },
  {
   "cell_type": "markdown",
   "metadata": {},
   "source": [
    "For each of the new images, print out the model's softmax probabilities to show the **certainty** of the model's predictions (limit the output to the top 5 probabilities for each image). [`tf.nn.top_k`](https://www.tensorflow.org/versions/r0.12/api_docs/python/nn.html#top_k) could prove helpful here. \n",
    "\n",
    "The example below demonstrates how tf.nn.top_k can be used to find the top k predictions for each image.\n",
    "\n",
    "`tf.nn.top_k` will return the values and indices (class ids) of the top k predictions. So if k=3, for each sign, it'll return the 3 largest probabilities (out of a possible 43) and the correspoding class ids.\n",
    "\n",
    "Take this numpy array as an example. The values in the array represent predictions. The array contains softmax probabilities for five candidate images with six possible classes. `tk.nn.top_k` is used to choose the three classes with the highest probability:\n",
    "\n",
    "```\n",
    "# (5, 6) array\n",
    "a = np.array([[ 0.24879643,  0.07032244,  0.12641572,  0.34763842,  0.07893497,\n",
    "         0.12789202],\n",
    "       [ 0.28086119,  0.27569815,  0.08594638,  0.0178669 ,  0.18063401,\n",
    "         0.15899337],\n",
    "       [ 0.26076848,  0.23664738,  0.08020603,  0.07001922,  0.1134371 ,\n",
    "         0.23892179],\n",
    "       [ 0.11943333,  0.29198961,  0.02605103,  0.26234032,  0.1351348 ,\n",
    "         0.16505091],\n",
    "       [ 0.09561176,  0.34396535,  0.0643941 ,  0.16240774,  0.24206137,\n",
    "         0.09155967]])\n",
    "```\n",
    "\n",
    "Running it through `sess.run(tf.nn.top_k(tf.constant(a), k=3))` produces:\n",
    "\n",
    "```\n",
    "TopKV2(values=array([[ 0.34763842,  0.24879643,  0.12789202],\n",
    "       [ 0.28086119,  0.27569815,  0.18063401],\n",
    "       [ 0.26076848,  0.23892179,  0.23664738],\n",
    "       [ 0.29198961,  0.26234032,  0.16505091],\n",
    "       [ 0.34396535,  0.24206137,  0.16240774]]), indices=array([[3, 0, 5],\n",
    "       [0, 1, 4],\n",
    "       [0, 5, 1],\n",
    "       [1, 3, 5],\n",
    "       [1, 4, 3]], dtype=int32))\n",
    "```\n",
    "\n",
    "Looking just at the first row we get `[ 0.34763842,  0.24879643,  0.12789202]`, you can confirm these are the 3 largest probabilities in `a`. You'll also notice `[3, 0, 5]` are the corresponding indices."
   ]
  },
  {
   "cell_type": "code",
   "execution_count": null,
   "metadata": {
    "collapsed": true
   },
   "outputs": [],
   "source": [
    "### Print out the top five softmax probabilities for the predictions on the German traffic sign images found on the web. \n",
    "### Feel free to use as many code cells as needed."
   ]
  },
  {
   "cell_type": "markdown",
   "metadata": {},
   "source": [
    "---\n",
    "\n",
    "## Step 4: Visualize the Neural Network's State with Test Images\n",
    "\n",
    " This Section is not required to complete but acts as an additional excersise for understaning the output of a neural network's weights. While neural networks can be a great learning device they are often referred to as a black box. We can understand what the weights of a neural network look like better by plotting their feature maps. After successfully training your neural network you can see what it's feature maps look like by plotting the output of the network's weight layers in response to a test stimuli image. From these plotted feature maps, it's possible to see what characteristics of an image the network finds interesting. For a sign, maybe the inner network feature maps react with high activation to the sign's boundary outline or to the contrast in the sign's painted symbol.\n",
    "\n",
    " Provided for you below is the function code that allows you to get the visualization output of any tensorflow weight layer you want. The inputs to the function should be a stimuli image, one used during training or a new one you provided, and then the tensorflow variable name that represents the layer's state during the training process, for instance if you wanted to see what the [LeNet lab's](https://classroom.udacity.com/nanodegrees/nd013/parts/fbf77062-5703-404e-b60c-95b78b2f3f9e/modules/6df7ae49-c61c-4bb2-a23e-6527e69209ec/lessons/601ae704-1035-4287-8b11-e2c2716217ad/concepts/d4aca031-508f-4e0b-b493-e7b706120f81) feature maps looked like for it's second convolutional layer you could enter conv2 as the tf_activation variable.\n",
    "\n",
    "For an example of what feature map outputs look like, check out NVIDIA's results in their paper [End-to-End Deep Learning for Self-Driving Cars](https://devblogs.nvidia.com/parallelforall/deep-learning-self-driving-cars/) in the section Visualization of internal CNN State. NVIDIA was able to show that their network's inner weights had high activations to road boundary lines by comparing feature maps from an image with a clear path to one without. Try experimenting with a similar test to show that your trained network's weights are looking for interesting features, whether it's looking at differences in feature maps from images with or without a sign, or even what feature maps look like in a trained network vs a completely untrained one on the same sign image.\n",
    "\n",
    "<figure>\n",
    " <img src=\"visualize_cnn.png\" width=\"380\" alt=\"Combined Image\" />\n",
    " <figcaption>\n",
    " <p></p> \n",
    " <p style=\"text-align: center;\"> Your output should look something like this (above)</p> \n",
    " </figcaption>\n",
    "</figure>\n",
    " <p></p> \n"
   ]
  },
  {
   "cell_type": "code",
   "execution_count": null,
   "metadata": {
    "collapsed": true
   },
   "outputs": [],
   "source": [
    "### Visualize your network's feature maps here.\n",
    "### Feel free to use as many code cells as needed.\n",
    "\n",
    "# image_input: the test image being fed into the network to produce the feature maps\n",
    "# tf_activation: should be a tf variable name used during your training procedure that represents the calculated state of a specific weight layer\n",
    "# activation_min/max: can be used to view the activation contrast in more detail, by default matplot sets min and max to the actual min and max values of the output\n",
    "# plt_num: used to plot out multiple different weight feature map sets on the same block, just extend the plt number for each new feature map entry\n",
    "\n",
    "def outputFeatureMap(image_input, tf_activation, activation_min=-1, activation_max=-1 ,plt_num=1):\n",
    "    # Here make sure to preprocess your image_input in a way your network expects\n",
    "    # with size, normalization, ect if needed\n",
    "    # image_input =\n",
    "    # Note: x should be the same name as your network's tensorflow data placeholder variable\n",
    "    # If you get an error tf_activation is not defined it maybe having trouble accessing the variable from inside a function\n",
    "    activation = tf_activation.eval(session=sess,feed_dict={x : image_input})\n",
    "    featuremaps = activation.shape[3]\n",
    "    plt.figure(plt_num, figsize=(15,15))\n",
    "    for featuremap in range(featuremaps):\n",
    "        plt.subplot(6,8, featuremap+1) # sets the number of feature maps to show on each row and column\n",
    "        plt.title('FeatureMap ' + str(featuremap)) # displays the feature map number\n",
    "        if activation_min != -1 & activation_max != -1:\n",
    "            plt.imshow(activation[0,:,:, featuremap], interpolation=\"nearest\", vmin =activation_min, vmax=activation_max, cmap=\"gray\")\n",
    "        elif activation_max != -1:\n",
    "            plt.imshow(activation[0,:,:, featuremap], interpolation=\"nearest\", vmax=activation_max, cmap=\"gray\")\n",
    "        elif activation_min !=-1:\n",
    "            plt.imshow(activation[0,:,:, featuremap], interpolation=\"nearest\", vmin=activation_min, cmap=\"gray\")\n",
    "        else:\n",
    "            plt.imshow(activation[0,:,:, featuremap], interpolation=\"nearest\", cmap=\"gray\")"
   ]
  },
  {
   "cell_type": "markdown",
   "metadata": {},
   "source": [
    "### Question 9\n",
    "\n",
    "Discuss how you used the visual output of your trained network's feature maps to show that it had learned to look for interesting characteristics in traffic sign images\n"
   ]
  },
  {
   "cell_type": "markdown",
   "metadata": {},
   "source": [
    "**Answer:**"
   ]
  },
  {
   "cell_type": "markdown",
   "metadata": {},
   "source": [
    "> **Note**: Once you have completed all of the code implementations and successfully answered each question above, you may finalize your work by exporting the iPython Notebook as an HTML document. You can do this by using the menu above and navigating to  \\n\",\n",
    "    \"**File -> Download as -> HTML (.html)**. Include the finished document along with this notebook as your submission."
   ]
  },
  {
   "cell_type": "markdown",
   "metadata": {},
   "source": [
    "### Project Writeup\n",
    "\n",
    "Once you have completed the code implementation, document your results in a project writeup using this [template](https://github.com/udacity/CarND-Traffic-Sign-Classifier-Project/blob/master/writeup_template.md) as a guide. The writeup can be in a markdown or pdf file. "
   ]
  }
 ],
 "metadata": {
  "anaconda-cloud": {},
  "kernelspec": {
   "display_name": "Python 3",
   "language": "python",
   "name": "python3"
  },
  "language_info": {
   "codemirror_mode": {
    "name": "ipython",
    "version": 3
   },
   "file_extension": ".py",
   "mimetype": "text/x-python",
   "name": "python",
   "nbconvert_exporter": "python",
   "pygments_lexer": "ipython3",
   "version": "3.5.2"
  },
  "widgets": {
   "state": {},
   "version": "1.1.2"
  }
 },
 "nbformat": 4,
 "nbformat_minor": 1
}
